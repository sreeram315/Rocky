{
 "cells": [
  {
   "cell_type": "code",
   "execution_count": 1,
   "metadata": {},
   "outputs": [],
   "source": [
    "from accounts.utils import send_toll_bill_sms \n"
   ]
  },
  {
   "cell_type": "code",
   "execution_count": 2,
   "metadata": {},
   "outputs": [],
   "source": [
    "from accounts.models import TollBillings  \n",
    "from accounts.utils import send_toll_bill_sms       \n",
    "b = TollBillings.objects.all().first() "
   ]
  },
  {
   "cell_type": "code",
   "execution_count": 3,
   "metadata": {},
   "outputs": [
    {
     "name": "stdout",
     "output_type": "stream",
     "text": [
      "\n",
      "\n",
      "\n",
      "Hello  Admin Trator,\n",
      "This message is in reference to the toll billing,\n",
      "TICKET NUMBER: TCKT213583\n",
      "\n",
      "VEHICLE: Skoda Q8 - MH20DV2366,\n",
      "TOLL ENTRY: Rajendra Nagar Toll Plaza\n",
      "TOLL EXIT: Khajaguda\n",
      "DISTANCE: 30.0\n",
      "\n",
      "\n",
      "\n"
     ]
    }
   ],
   "source": [
    "send_toll_bill_sms(b)   \n"
   ]
  },
  {
   "cell_type": "code",
   "execution_count": 4,
   "metadata": {},
   "outputs": [
    {
     "name": "stdout",
     "output_type": "stream",
     "text": [
      "\n",
      "\n",
      "\n",
      "Hello  Admin Trator,\n",
      "This message is in reference to the toll billing,\n",
      "TICKET NUMBER: TCKT213583\n",
      "\n",
      "VEHICLE: Skoda Q8 - MH20DV2366,\n",
      "TOLL ENTRY: Rajendra Nagar Toll Plaza\n",
      "TOLL EXIT: Khajaguda\n",
      "DISTANCE: 30.0\n",
      "\n",
      "\n",
      "\n"
     ]
    }
   ],
   "source": [
    "send_toll_bill_sms(b)   \n",
    "\n"
   ]
  },
  {
   "cell_type": "code",
   "execution_count": 5,
   "metadata": {},
   "outputs": [
    {
     "name": "stdout",
     "output_type": "stream",
     "text": [
      "\n",
      "\n",
      "\n",
      "Hello  Admin Trator,\n",
      "This message is in reference to the toll billing,\n",
      "TICKET NUMBER: TCKT213583\n",
      "\n",
      "VEHICLE: Skoda Q8 - MH20DV2366,\n",
      "TOLL ENTRY: Rajendra Nagar Toll Plaza\n",
      "TOLL EXIT: Khajaguda\n",
      "DISTANCE: 30.0\n",
      "\n",
      "\n",
      "\n"
     ]
    }
   ],
   "source": [
    "send_toll_bill_sms(b)   \n"
   ]
  },
  {
   "cell_type": "code",
   "execution_count": 6,
   "metadata": {},
   "outputs": [
    {
     "name": "stdout",
     "output_type": "stream",
     "text": [
      "\n",
      "\n",
      "\n",
      "Hello  Admin Trator,\n",
      "This message is in reference to the toll billing,\n",
      "TICKET NUMBER: TCKT213583\n",
      "\n",
      "VEHICLE: Skoda Q8 - MH20DV2366,\n",
      "TOLL ENTRY: Rajendra Nagar Toll Plaza\n",
      "TOLL EXIT: Khajaguda\n",
      "DISTANCE: 30.0\n",
      "\n",
      "\n",
      "\n"
     ]
    }
   ],
   "source": [
    "send_toll_bill_sms(b) "
   ]
  },
  {
   "cell_type": "code",
   "execution_count": 7,
   "metadata": {},
   "outputs": [
    {
     "name": "stdout",
     "output_type": "stream",
     "text": [
      "\n",
      "\n",
      "\n",
      "Hello  Admin Trator,\n",
      "This message is in reference to the toll billing,\n",
      "TICKET NUMBER: TCKT213583\n",
      "\n",
      "VEHICLE: Skoda Q8 - MH20DV2366,\n",
      "TOLL ENTRY: Rajendra Nagar Toll Plaza\n",
      "TOLL EXIT: Khajaguda\n",
      "DISTANCE: 30.0\n",
      "\n",
      "\n",
      "\n"
     ]
    }
   ],
   "source": [
    "send_toll_bill_sms(b) "
   ]
  },
  {
   "cell_type": "code",
   "execution_count": 8,
   "metadata": {},
   "outputs": [
    {
     "name": "stdout",
     "output_type": "stream",
     "text": [
      "\n",
      "\n",
      "\n",
      "Hello  Admin Trator,\n",
      "This message is in reference to the toll billing,\n",
      "TICKET NUMBER: TCKT213583\n",
      "\n",
      "VEHICLE: Skoda Q8 - MH20DV2366,\n",
      "TOLL ENTRY: Rajendra Nagar Toll Plaza\n",
      "TOLL EXIT: Khajaguda\n",
      "DISTANCE: 30.0\n",
      "\n",
      "\n",
      "\n"
     ]
    }
   ],
   "source": [
    "send_toll_bill_sms(b) "
   ]
  },
  {
   "cell_type": "code",
   "execution_count": 9,
   "metadata": {},
   "outputs": [
    {
     "name": "stdout",
     "output_type": "stream",
     "text": [
      "\u001b[H\u001b[2J"
     ]
    }
   ],
   "source": [
    "clear\n"
   ]
  },
  {
   "cell_type": "code",
   "execution_count": 10,
   "metadata": {},
   "outputs": [],
   "source": [
    "from accounts.models import TollBillings  \n",
    "from accounts.utils import send_toll_bill_sms       \n",
    "b = TollBillings.objects.all().first() "
   ]
  },
  {
   "cell_type": "code",
   "execution_count": 11,
   "metadata": {},
   "outputs": [
    {
     "name": "stdout",
     "output_type": "stream",
     "text": [
      "\n",
      "\n",
      "\n",
      "Hello  Admin Trator,\n",
      "This message is in reference to the toll billing,\n",
      "TICKET NUMBER: TCKT213583\n",
      "\n",
      "VEHICLE: Skoda Q8 - MH20DV2366,\n",
      "TOLL ENTRY: Rajendra Nagar Toll Plaza\n",
      "TOLL EXIT: Khajaguda\n",
      "DISTANCE: 30.0\n",
      "\n",
      "\n",
      "\n"
     ]
    }
   ],
   "source": [
    "send_toll_bill_sms(b)"
   ]
  },
  {
   "cell_type": "code",
   "execution_count": 12,
   "metadata": {},
   "outputs": [],
   "source": [
    "b.distance = 30"
   ]
  },
  {
   "cell_type": "code",
   "execution_count": 13,
   "metadata": {},
   "outputs": [],
   "source": [
    "b.save()"
   ]
  },
  {
   "cell_type": "code",
   "execution_count": 14,
   "metadata": {},
   "outputs": [
    {
     "data": {
      "text/plain": [
       "<TollBillings: Skoda | 4 wheeler | MH20DV2366 - 29:  TollgateLog:Entry  Skoda | 4 wheeler | MH20DV2366 - 2020-06-05 - 17:47:11.382953 -- 31>"
      ]
     },
     "execution_count": 14,
     "metadata": {},
     "output_type": "execute_result"
    }
   ],
   "source": [
    "b\n"
   ]
  },
  {
   "cell_type": "code",
   "execution_count": 15,
   "metadata": {},
   "outputs": [
    {
     "data": {
      "text/plain": [
       "30"
      ]
     },
     "execution_count": 15,
     "metadata": {},
     "output_type": "execute_result"
    }
   ],
   "source": [
    "b.distance"
   ]
  },
  {
   "cell_type": "code",
   "execution_count": 16,
   "metadata": {},
   "outputs": [
    {
     "name": "stdout",
     "output_type": "stream",
     "text": [
      "\n",
      "\n",
      "\n",
      "Hello  Admin Trator,\n",
      "This message is in reference to the toll billing,\n",
      "TICKET NUMBER: TCKT213583\n",
      "\n",
      "VEHICLE: Skoda Q8 - MH20DV2366,\n",
      "TOLL ENTRY: Rajendra Nagar Toll Plaza\n",
      "TOLL EXIT: Khajaguda\n",
      "DISTANCE: 30\n",
      "\n",
      "\n",
      "\n"
     ]
    }
   ],
   "source": [
    "send_toll_bill_sms(b)"
   ]
  },
  {
   "cell_type": "code",
   "execution_count": 17,
   "metadata": {},
   "outputs": [
    {
     "name": "stdout",
     "output_type": "stream",
     "text": [
      "\n",
      "\n",
      "\n",
      "Hello  Admin Trator,\n",
      "This message is in reference to the toll billing,\n",
      "TICKET NUMBER: TCKT213583\n",
      "\n",
      "VEHICLE: Skoda Q8 - MH20DV2366,\n",
      "TOLL ENTRY: Rajendra Nagar Toll Plaza\n",
      "TOLL EXIT: Khajaguda\n",
      "DISTANCE: 30\n",
      "\n",
      "\n",
      "\n"
     ]
    }
   ],
   "source": [
    "send_toll_bill_sms(b)"
   ]
  },
  {
   "cell_type": "code",
   "execution_count": 18,
   "metadata": {},
   "outputs": [
    {
     "ename": "NameError",
     "evalue": "name 'toll_billing' is not defined",
     "output_type": "error",
     "traceback": [
      "\u001b[0;31m---------------------------------------------------------------------------\u001b[0m",
      "\u001b[0;31mNameError\u001b[0m                                 Traceback (most recent call last)",
      "\u001b[0;32m<ipython-input-18-0b4755faa561>\u001b[0m in \u001b[0;36m<module>\u001b[0;34m\u001b[0m\n\u001b[0;32m----> 1\u001b[0;31m \u001b[0mtoll_billing\u001b[0m\u001b[0;34m\u001b[0m\u001b[0m\n\u001b[0m",
      "\u001b[0;31mNameError\u001b[0m: name 'toll_billing' is not defined"
     ]
    }
   ],
   "source": [
    "toll_billing"
   ]
  },
  {
   "cell_type": "code",
   "execution_count": 19,
   "metadata": {},
   "outputs": [
    {
     "name": "stdout",
     "output_type": "stream",
     "text": [
      "\n",
      "\n",
      "\n",
      "Hello  Admin Trator,\n",
      "This message is in reference to the toll billing,\n",
      "\n",
      "TICKET NUMBER: TCKT213583\n",
      "VEHICLE: Skoda Q8 - MH20DV2366,\n",
      "TOLL ENTRY: Rajendra Nagar Toll Plaza\n",
      "TOLL EXIT: Khajaguda\n",
      "DISTANCE: 30\n",
      "AMOUNT CHARGEBLE: 31\n",
      "\n",
      "\n",
      "\n"
     ]
    }
   ],
   "source": [
    "send_toll_bill_sms(b)"
   ]
  },
  {
   "cell_type": "code",
   "execution_count": 20,
   "metadata": {},
   "outputs": [
    {
     "name": "stdout",
     "output_type": "stream",
     "text": [
      "\n",
      "\n",
      "\n",
      "Hello  Admin Trator,\n",
      "This message is in reference to the toll billing,\n",
      "\n",
      "TICKET NUMBER: TCKT213583\n",
      "VEHICLE: Skoda Q8 - MH20DV2366,\n",
      "TOLL ENTRY: Rajendra Nagar Toll Plaza\n",
      "TOLL EXIT: Khajaguda\n",
      "DISTANCE: 30\n",
      "AMOUNT CHARGEBLE: 31\n",
      "\n",
      "The amount has been debited from your online wallet, please do not forget to recharge it whenevr necessary to avoid cancellation of service.\n",
      "\n",
      "Thank you. Team ROCKY.\n",
      "\n",
      "\n",
      "\n"
     ]
    }
   ],
   "source": [
    "send_toll_bill_sms(b)"
   ]
  },
  {
   "cell_type": "code",
   "execution_count": 21,
   "metadata": {},
   "outputs": [
    {
     "name": "stdout",
     "output_type": "stream",
     "text": [
      "\n",
      "\n",
      "\n",
      "Hello  Admin Trator,\n",
      "This message is in reference to the toll billing,\n",
      "\n",
      "TICKET NUMBER: TCKT213583\n",
      "VEHICLE: Skoda Q8 - MH20DV2366,\n",
      "TOLL ENTRY: Rajendra Nagar Toll Plaza\n",
      "TOLL EXIT: Khajaguda\n",
      "DISTANCE: 30\n",
      "AMOUNT CHARGEBLE: 31\n",
      "\n",
      "The amount has been debited from your online wallet, please do not forget to recharge it whenever necessary to avoid cancellation of service.\n",
      "\n",
      "Thank you. Team ROCKY.\n",
      "\n",
      "\n",
      "\n"
     ]
    }
   ],
   "source": [
    "send_toll_bill_sms(b)"
   ]
  },
  {
   "cell_type": "code",
   "execution_count": 22,
   "metadata": {},
   "outputs": [
    {
     "name": "stdout",
     "output_type": "stream",
     "text": [
      "\n",
      "\n",
      "\n",
      "Hello  Admin Trator,\n",
      "This message is in reference to the toll billing,\n",
      "\n",
      "TICKET NUMBER: TCKT213583,\n",
      "VEHICLE: Skoda Q8 - MH20DV2366,\n",
      "TOLL ENTRY: Rajendra Nagar Toll Plaza,\n",
      "TOLL EXIT: Khajaguda,\n",
      "DISTANCE: 30,\n",
      "AMOUNT CHARGEBLE: 31\n",
      "\n",
      "The amount has been debited from your online wallet, please do not forget to recharge it whenever necessary to avoid cancellation of service.\n",
      "\n",
      "Thank you. Team ROCKY.\n",
      "\n",
      "\n",
      "\n"
     ]
    }
   ],
   "source": [
    "send_toll_bill_sms(b)"
   ]
  },
  {
   "cell_type": "code",
   "execution_count": 23,
   "metadata": {},
   "outputs": [
    {
     "ename": "NameError",
     "evalue": "name 'CHARGEABLE' is not defined",
     "output_type": "error",
     "traceback": [
      "\u001b[0;31m---------------------------------------------------------------------------\u001b[0m",
      "\u001b[0;31mNameError\u001b[0m                                 Traceback (most recent call last)",
      "\u001b[0;32m<ipython-input-23-e2c19c770a93>\u001b[0m in \u001b[0;36m<module>\u001b[0;34m\u001b[0m\n\u001b[0;32m----> 1\u001b[0;31m \u001b[0mCHARGEABLE\u001b[0m\u001b[0;34m\u001b[0m\u001b[0m\n\u001b[0m",
      "\u001b[0;31mNameError\u001b[0m: name 'CHARGEABLE' is not defined"
     ]
    }
   ],
   "source": [
    "CHARGEABLE"
   ]
  },
  {
   "cell_type": "code",
   "execution_count": 24,
   "metadata": {},
   "outputs": [
    {
     "name": "stdout",
     "output_type": "stream",
     "text": [
      "\n",
      "\n",
      "\n",
      "Hello  Admin Trator,\n",
      "This message is in reference to the toll billing,\n",
      "\n",
      "TICKET NUMBER: TCKT213583,\n",
      "VEHICLE: Skoda Q8 - MH20DV2366,\n",
      "TOLL ENTRY: Rajendra Nagar Toll Plaza,\n",
      "TOLL EXIT: Khajaguda,\n",
      "DISTANCE: 30,\n",
      "AMOUNT CHARGEABLE: 31\n",
      "\n",
      "The amount has been debited from your online wallet, please do not forget to recharge it whenever necessary to avoid cancellation of service.\n",
      "\n",
      "Thank you. Team ROCKY.\n",
      "\n",
      "\n",
      "\n"
     ]
    }
   ],
   "source": [
    "send_toll_bill_sms(b)"
   ]
  },
  {
   "cell_type": "code",
   "execution_count": null,
   "metadata": {},
   "outputs": [],
   "source": []
  }
 ],
 "metadata": {
  "kernelspec": {
   "display_name": "Django Shell-Plus",
   "language": "python",
   "name": "django_extensions"
  },
  "language_info": {
   "codemirror_mode": {
    "name": "ipython",
    "version": 3
   },
   "file_extension": ".py",
   "mimetype": "text/x-python",
   "name": "python",
   "nbconvert_exporter": "python",
   "pygments_lexer": "ipython3",
   "version": "3.7.0"
  }
 },
 "nbformat": 4,
 "nbformat_minor": 2
}
